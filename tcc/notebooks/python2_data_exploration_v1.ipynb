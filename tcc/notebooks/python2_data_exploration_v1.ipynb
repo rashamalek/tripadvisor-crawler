{
 "cells": [
  {
   "cell_type": "code",
   "execution_count": 12,
   "metadata": {},
   "outputs": [],
   "source": [
    "import numpy as np\n",
    "import pandas as pd\n",
    "import itertools"
   ]
  },
  {
   "cell_type": "code",
   "execution_count": 13,
   "metadata": {
    "scrolled": true
   },
   "outputs": [],
   "source": [
    "data_hu = pd.read_json('../hungarian.txt')\n",
    "data_tr = pd.read_json('../turkish.txt')"
   ]
  },
  {
   "cell_type": "code",
   "execution_count": 14,
   "metadata": {},
   "outputs": [
    {
     "name": "stdout",
     "output_type": "stream",
     "text": [
      "12396 hungarian posts\n"
     ]
    },
    {
     "data": {
      "text/html": [
       "<div>\n",
       "<style scoped>\n",
       "    .dataframe tbody tr th:only-of-type {\n",
       "        vertical-align: middle;\n",
       "    }\n",
       "\n",
       "    .dataframe tbody tr th {\n",
       "        vertical-align: top;\n",
       "    }\n",
       "\n",
       "    .dataframe thead th {\n",
       "        text-align: right;\n",
       "    }\n",
       "</style>\n",
       "<table border=\"1\" class=\"dataframe\">\n",
       "  <thead>\n",
       "    <tr style=\"text-align: right;\">\n",
       "      <th></th>\n",
       "      <th>link</th>\n",
       "      <th>source</th>\n",
       "      <th>text</th>\n",
       "      <th>title</th>\n",
       "    </tr>\n",
       "  </thead>\n",
       "  <tbody>\n",
       "    <tr>\n",
       "      <th>0</th>\n",
       "      <td>https://www.tripadvisor.co.hu/Hotel_Review-g11...</td>\n",
       "      <td>tripadvisorhu</td>\n",
       "      <td>Das Restaurant liegt direkt an der Ortsdurchga...</td>\n",
       "      <td>Pahok Panzio (Alsópáhok) - Értékelések és Árös...</td>\n",
       "    </tr>\n",
       "    <tr>\n",
       "      <th>1</th>\n",
       "      <td>https://www.tripadvisor.co.hu/Hotel_Review-g11...</td>\n",
       "      <td>tripadvisorhu</td>\n",
       "      <td>Ich war am 8.7.2013 mit meiner Tochter am früh...</td>\n",
       "      <td>Pahok Panzio (Alsópáhok) - Értékelések és Árös...</td>\n",
       "    </tr>\n",
       "    <tr>\n",
       "      <th>2</th>\n",
       "      <td>https://www.tripadvisor.co.hu/Hotel_Review-g11...</td>\n",
       "      <td>tripadvisorhu</td>\n",
       "      <td>5nap 4 éjszakát töltöttünk itt! Elégedettek vo...</td>\n",
       "      <td>Antonia Wellness Vendeghaz (Alsópáhok) - Érték...</td>\n",
       "    </tr>\n",
       "    <tr>\n",
       "      <th>3</th>\n",
       "      <td>https://www.tripadvisor.co.hu/Hotel_Review-g11...</td>\n",
       "      <td>tripadvisorhu</td>\n",
       "      <td>Приехав в эту местность Венгрии, попадаешь в м...</td>\n",
       "      <td>Villa Alexandr (Alsópáhok) - Értékelések és Ár...</td>\n",
       "    </tr>\n",
       "    <tr>\n",
       "      <th>4</th>\n",
       "      <td>https://www.tripadvisor.co.hu/Hotel_Review-g11...</td>\n",
       "      <td>tripadvisorhu</td>\n",
       "      <td>Снимали 2-й этаж полностью (4 спальни и кухня)...</td>\n",
       "      <td>Villa Alexandr (Alsópáhok) - Értékelések és Ár...</td>\n",
       "    </tr>\n",
       "  </tbody>\n",
       "</table>\n",
       "</div>"
      ],
      "text/plain": [
       "                                                link         source  \\\n",
       "0  https://www.tripadvisor.co.hu/Hotel_Review-g11...  tripadvisorhu   \n",
       "1  https://www.tripadvisor.co.hu/Hotel_Review-g11...  tripadvisorhu   \n",
       "2  https://www.tripadvisor.co.hu/Hotel_Review-g11...  tripadvisorhu   \n",
       "3  https://www.tripadvisor.co.hu/Hotel_Review-g11...  tripadvisorhu   \n",
       "4  https://www.tripadvisor.co.hu/Hotel_Review-g11...  tripadvisorhu   \n",
       "\n",
       "                                                text  \\\n",
       "0  Das Restaurant liegt direkt an der Ortsdurchga...   \n",
       "1  Ich war am 8.7.2013 mit meiner Tochter am früh...   \n",
       "2  5nap 4 éjszakát töltöttünk itt! Elégedettek vo...   \n",
       "3  Приехав в эту местность Венгрии, попадаешь в м...   \n",
       "4  Снимали 2-й этаж полностью (4 спальни и кухня)...   \n",
       "\n",
       "                                               title  \n",
       "0  Pahok Panzio (Alsópáhok) - Értékelések és Árös...  \n",
       "1  Pahok Panzio (Alsópáhok) - Értékelések és Árös...  \n",
       "2  Antonia Wellness Vendeghaz (Alsópáhok) - Érték...  \n",
       "3  Villa Alexandr (Alsópáhok) - Értékelések és Ár...  \n",
       "4  Villa Alexandr (Alsópáhok) - Értékelések és Ár...  "
      ]
     },
     "execution_count": 14,
     "metadata": {},
     "output_type": "execute_result"
    }
   ],
   "source": [
    "print('%s hungarian posts' % len(data_hu))\n",
    "data_hu.head()"
   ]
  },
  {
   "cell_type": "code",
   "execution_count": 15,
   "metadata": {
    "scrolled": true
   },
   "outputs": [
    {
     "name": "stdout",
     "output_type": "stream",
     "text": [
      "16282 turkish posts\n"
     ]
    },
    {
     "data": {
      "text/html": [
       "<div>\n",
       "<style scoped>\n",
       "    .dataframe tbody tr th:only-of-type {\n",
       "        vertical-align: middle;\n",
       "    }\n",
       "\n",
       "    .dataframe tbody tr th {\n",
       "        vertical-align: top;\n",
       "    }\n",
       "\n",
       "    .dataframe thead th {\n",
       "        text-align: right;\n",
       "    }\n",
       "</style>\n",
       "<table border=\"1\" class=\"dataframe\">\n",
       "  <thead>\n",
       "    <tr style=\"text-align: right;\">\n",
       "      <th></th>\n",
       "      <th>link</th>\n",
       "      <th>source</th>\n",
       "      <th>text</th>\n",
       "      <th>title</th>\n",
       "    </tr>\n",
       "  </thead>\n",
       "  <tbody>\n",
       "    <tr>\n",
       "      <th>0</th>\n",
       "      <td>https://www.tripadvisor.com.tr/Hotel_Review-g2...</td>\n",
       "      <td>tripadvisortr</td>\n",
       "      <td>Şehrin Merkezinde görülmesi gereken yerlere yü...</td>\n",
       "      <td>Otel Mercan (Adana, Türkiye) - Otel Yorumları ...</td>\n",
       "    </tr>\n",
       "    <tr>\n",
       "      <th>1</th>\n",
       "      <td>https://www.tripadvisor.com.tr/Hotel_Review-g2...</td>\n",
       "      <td>tripadvisortr</td>\n",
       "      <td>Otel cok temiz ve yeri harika. Heryere yuruyer...</td>\n",
       "      <td>Otel Mercan (Adana, Türkiye) - Otel Yorumları ...</td>\n",
       "    </tr>\n",
       "    <tr>\n",
       "      <th>2</th>\n",
       "      <td>https://www.tripadvisor.com.tr/Hotel_Review-g2...</td>\n",
       "      <td>tripadvisortr</td>\n",
       "      <td>Adanaya geldigimde devamli konakladigim tertem...</td>\n",
       "      <td>Otel Mercan (Adana, Türkiye) - Otel Yorumları ...</td>\n",
       "    </tr>\n",
       "    <tr>\n",
       "      <th>3</th>\n",
       "      <td>https://www.tripadvisor.com.tr/Hotel_Review-g2...</td>\n",
       "      <td>tripadvisortr</td>\n",
       "      <td>Temiz,sessiz,fiyat açısından iyi bir butik ote...</td>\n",
       "      <td>Otel Mercan (Adana, Türkiye) - Otel Yorumları ...</td>\n",
       "    </tr>\n",
       "    <tr>\n",
       "      <th>4</th>\n",
       "      <td>https://www.tripadvisor.com.tr/Hotel_Review-g2...</td>\n",
       "      <td>tripadvisortr</td>\n",
       "      <td>Çok iyi personel, temizlik,fiyatlar ve konumu ...</td>\n",
       "      <td>Otel Mercan (Adana, Türkiye) - Otel Yorumları ...</td>\n",
       "    </tr>\n",
       "  </tbody>\n",
       "</table>\n",
       "</div>"
      ],
      "text/plain": [
       "                                                link         source  \\\n",
       "0  https://www.tripadvisor.com.tr/Hotel_Review-g2...  tripadvisortr   \n",
       "1  https://www.tripadvisor.com.tr/Hotel_Review-g2...  tripadvisortr   \n",
       "2  https://www.tripadvisor.com.tr/Hotel_Review-g2...  tripadvisortr   \n",
       "3  https://www.tripadvisor.com.tr/Hotel_Review-g2...  tripadvisortr   \n",
       "4  https://www.tripadvisor.com.tr/Hotel_Review-g2...  tripadvisortr   \n",
       "\n",
       "                                                text  \\\n",
       "0  Şehrin Merkezinde görülmesi gereken yerlere yü...   \n",
       "1  Otel cok temiz ve yeri harika. Heryere yuruyer...   \n",
       "2  Adanaya geldigimde devamli konakladigim tertem...   \n",
       "3  Temiz,sessiz,fiyat açısından iyi bir butik ote...   \n",
       "4  Çok iyi personel, temizlik,fiyatlar ve konumu ...   \n",
       "\n",
       "                                               title  \n",
       "0  Otel Mercan (Adana, Türkiye) - Otel Yorumları ...  \n",
       "1  Otel Mercan (Adana, Türkiye) - Otel Yorumları ...  \n",
       "2  Otel Mercan (Adana, Türkiye) - Otel Yorumları ...  \n",
       "3  Otel Mercan (Adana, Türkiye) - Otel Yorumları ...  \n",
       "4  Otel Mercan (Adana, Türkiye) - Otel Yorumları ...  "
      ]
     },
     "execution_count": 15,
     "metadata": {},
     "output_type": "execute_result"
    }
   ],
   "source": [
    "print('%s turkish posts' % len(data_tr))\n",
    "data_tr.head()"
   ]
  },
  {
   "cell_type": "code",
   "execution_count": 16,
   "metadata": {},
   "outputs": [
    {
     "ename": "HunSpellError",
     "evalue": "(2, 'No such file or directory')",
     "output_type": "error",
     "traceback": [
      "\u001b[0;31m---------------------------------------------------------------------------\u001b[0m",
      "\u001b[0;31mHunSpellError\u001b[0m                             Traceback (most recent call last)",
      "\u001b[0;32m<ipython-input-16-63adf68d2d9d>\u001b[0m in \u001b[0;36m<module>\u001b[0;34m()\u001b[0m\n\u001b[1;32m      1\u001b[0m \u001b[0;32mimport\u001b[0m \u001b[0mhunspell\u001b[0m\u001b[0;34m\u001b[0m\u001b[0m\n\u001b[0;32m----> 2\u001b[0;31m \u001b[0mhu_spellchecker\u001b[0m \u001b[0;34m=\u001b[0m \u001b[0mhunspell\u001b[0m\u001b[0;34m.\u001b[0m\u001b[0mHunSpell\u001b[0m\u001b[0;34m(\u001b[0m\u001b[0;34m'/home/rgomes/hunspell-hu/hu_HU.dic'\u001b[0m\u001b[0;34m,\u001b[0m \u001b[0;34m'/home/rgomes/hunspell-hu/hu_HU.aff.aff'\u001b[0m\u001b[0;34m)\u001b[0m\u001b[0;34m\u001b[0m\u001b[0m\n\u001b[0m\u001b[1;32m      3\u001b[0m \u001b[0mtr_spellchecker\u001b[0m \u001b[0;34m=\u001b[0m \u001b[0mhunspell\u001b[0m\u001b[0;34m.\u001b[0m\u001b[0mHunSpell\u001b[0m\u001b[0;34m(\u001b[0m\u001b[0;34m'/home/rgomes/hunspell-tr/tr_TR.dic'\u001b[0m\u001b[0;34m,\u001b[0m \u001b[0;34m'/home/rgomes/hunspell-tr/tr_TR.aff'\u001b[0m\u001b[0;34m)\u001b[0m\u001b[0;34m\u001b[0m\u001b[0m\n",
      "\u001b[0;31mHunSpellError\u001b[0m: (2, 'No such file or directory')"
     ]
    }
   ],
   "source": [
    "import hunspell\n",
    "hu_spellchecker = hunspell.HunSpell('/home/rgomes/hunspell-hu/hu_HU.dic', '/home/rgomes/hunspell-hu/hu_HU.aff')\n",
    "tr_spellchecker = hunspell.HunSpell('/home/rgomes/hunspell-tr/tr_TR.dic', '/home/rgomes/hunspell-tr/tr_TR.aff')"
   ]
  },
  {
   "cell_type": "code",
   "execution_count": 8,
   "metadata": {},
   "outputs": [
    {
     "name": "stdout",
     "output_type": "stream",
     "text": [
      "Not recognized 746110\n",
      "Recognized 217914\n"
     ]
    }
   ],
   "source": [
    "X = data_hu[\"text\"].apply(lambda x: x.split(\" \"))\n",
    "X = X.values.tolist()\n",
    "X = list(itertools.chain.from_iterable(X))\n",
    "spellings = [[x, hu_spellchecker.spell(x)] for x in X]\n",
    "print('Not recognized', len(list(filter(lambda x: x[1] == False, spellings))))\n",
    "print('Recognized', len(list(filter(lambda x: x[1] == True, spellings))))"
   ]
  },
  {
   "cell_type": "code",
   "execution_count": 9,
   "metadata": {},
   "outputs": [
    {
     "name": "stdout",
     "output_type": "stream",
     "text": [
      "Not recognized 317219\n",
      "Recognized 706573\n"
     ]
    }
   ],
   "source": [
    "X = data_tr[\"text\"].apply(lambda x: x.split(\" \"))\n",
    "X = X.values.tolist()\n",
    "X = list(itertools.chain.from_iterable(X))\n",
    "spellings = [[x, tr_spellchecker.spell(x)] for x in X]\n",
    "print('Not recognized', len(list(filter(lambda x: x[1] == False, spellings))))\n",
    "print('Recognized', len(list(filter(lambda x: x[1] == True, spellings))))"
   ]
  },
  {
   "cell_type": "code",
   "execution_count": null,
   "metadata": {},
   "outputs": [],
   "source": []
  },
  {
   "cell_type": "code",
   "execution_count": null,
   "metadata": {},
   "outputs": [],
   "source": []
  },
  {
   "cell_type": "code",
   "execution_count": null,
   "metadata": {},
   "outputs": [],
   "source": []
  }
 ],
 "metadata": {
  "kernelspec": {
   "display_name": "Python 2",
   "language": "python",
   "name": "python2"
  },
  "language_info": {
   "codemirror_mode": {
    "name": "ipython",
    "version": 3
   },
   "file_extension": ".py",
   "mimetype": "text/x-python",
   "name": "python",
   "nbconvert_exporter": "python",
   "pygments_lexer": "ipython3",
   "version": "3.6.4"
  }
 },
 "nbformat": 4,
 "nbformat_minor": 2
}

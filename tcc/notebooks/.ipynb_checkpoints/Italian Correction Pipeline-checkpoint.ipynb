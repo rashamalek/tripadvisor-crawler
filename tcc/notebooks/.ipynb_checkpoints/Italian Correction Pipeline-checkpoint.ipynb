{
 "cells": [
  {
   "cell_type": "markdown",
   "metadata": {},
   "source": [
    "# Italian error collection pipeline\n",
    "\n",
    " 1. Filter the dataset words by non identified words\n",
    " 2. Export erros to correction sheet\n",
    " 3. Read the corrections sheet\n",
    " 4. Combine all corrections\n",
    " 5. Mark the dataset with the corrections\n",
    " 6. Count the frequency of errors\n",
    " 7. Export sheet to validation\n",
    " 8. Classify the errors"
   ]
  },
  {
   "cell_type": "code",
   "execution_count": 100,
   "metadata": {},
   "outputs": [],
   "source": [
    "import json\n",
    "import numpy as np\n",
    "import pandas as pd\n",
    "import itertools\n",
    "from matplotlib import pyplot as plt\n",
    "import re\n",
    "import string\n",
    "import hunspell"
   ]
  },
  {
   "cell_type": "code",
   "execution_count": 101,
   "metadata": {},
   "outputs": [],
   "source": [
    "it_spellchecker = hunspell.HunSpell('/home/rgomes/dictionaries/dictionaries/it/index.dic', '/home/rgomes/dictionaries/dictionaries/it/index.aff')"
   ]
  },
  {
   "cell_type": "markdown",
   "metadata": {},
   "source": [
    "# Analyze the starting dataset\n",
    "Initial analisis to identify the behavior of the dataset and words distribuition"
   ]
  },
  {
   "cell_type": "code",
   "execution_count": 102,
   "metadata": {},
   "outputs": [],
   "source": [
    "def histogram(list):\n",
    "    d={}\n",
    "    for i in list:\n",
    "        if i in d:\n",
    "            d[i] += 1\n",
    "        else:\n",
    "            d[i] = 1\n",
    "    return d"
   ]
  },
  {
   "cell_type": "code",
   "execution_count": 103,
   "metadata": {},
   "outputs": [],
   "source": [
    "def histogramSorted(wordslist):\n",
    "    h = histogram(wordslist)\n",
    "    h = sorted(h.items(), key=lambda x: x[1], reverse=True)\n",
    "    # remove the words that appears only once\n",
    "    h = filter(lambda x: x[1] > 1, h)\n",
    "    return h\n",
    "\n",
    "def plotHistogram(data):\n",
    "    h = histogramSorted(data)\n",
    "    h = map(lambda x: x[1], h)\n",
    "    plt.plot(list(h))\n",
    "    plt.show()"
   ]
  },
  {
   "cell_type": "code",
   "execution_count": 104,
   "metadata": {},
   "outputs": [
    {
     "name": "stdout",
     "output_type": "stream",
     "text": [
      "Total words from dataset: 1900669\n"
     ]
    },
    {
     "data": {
      "image/png": "[encoded data removed]",
      "text/plain": [
       "<matplotlib.figure.Figure at 0x7f45a48cbe48>"
      ]
     },
     "metadata": {},
     "output_type": "display_data"
    }
   ],
   "source": [
    "all_words = []\n",
    "with open('../italian_words_all.txt', encoding='utf-8') as data_file_all:\n",
    "    lines = data_file_all.readlines()\n",
    "    all_words = list(map(lambda x: x.rstrip('\\n').lower(), lines))\n",
    "    all_words = list(map(lambda x: x.replace('!#$%&()*+,./:;<=>?@[\\\\]_{|}', ''), all_words))\n",
    "\n",
    "print('Total words from dataset:', len(all_words))\n",
    "\n",
    "plotHistogram(all_words)"
   ]
  },
  {
   "cell_type": "markdown",
   "metadata": {},
   "source": [
    "# Working with the automatic suggestions list"
   ]
  },
  {
   "cell_type": "code",
   "execution_count": 105,
   "metadata": {},
   "outputs": [],
   "source": [
    "def filterNonRecognizedWords(wordslist):\n",
    "    a = map(lambda x: (x['word'], it_spellchecker.spell(x['word'])), wordslist)\n",
    "    b = filter(lambda x: not x[1], a)\n",
    "    return b"
   ]
  },
  {
   "cell_type": "code",
   "execution_count": 106,
   "metadata": {},
   "outputs": [],
   "source": [
    "def filterRecognizedWords(wordslist):\n",
    "    a = map(lambda x: (x['word'], it_spellchecker.spell(x['word'])), wordslist)\n",
    "    b = filter(lambda x: x[1], a)\n",
    "    return b"
   ]
  },
  {
   "cell_type": "code",
   "execution_count": 107,
   "metadata": {},
   "outputs": [],
   "source": [
    "auto_spellchecker_data = []\n",
    "with open('../auto.spellchecker.results.filtered.json', encoding='utf-8') as data_file_1:\n",
    "    data = json.loads(data_file_1.read())\n",
    "    auto_spellchecker_data = list(filter(lambda x: x,data))\n",
    "\n",
    "# Filter the Hunspell non recognized words\n",
    "auto_spellchecker_non_recognized = list(filterNonRecognizedWords(auto_spellchecker_data))"
   ]
  },
  {
   "cell_type": "code",
   "execution_count": 108,
   "metadata": {},
   "outputs": [],
   "source": [
    "auto_spellchecker_non_recognized_accented = filter(lambda x: re.search(r'[À-ž\\'\\`]', x[0]),\n",
    "                                                   auto_spellchecker_non_recognized)\n",
    "# save on a file\n",
    "# and the correct the words"
   ]
  },
  {
   "cell_type": "code",
   "execution_count": 109,
   "metadata": {},
   "outputs": [],
   "source": [
    "corrected_ac_errors = []\n",
    "with open('../italian_accented_erros.txt', encoding='utf-8') as data_file2:\n",
    "    lines = data_file2.readlines()\n",
    "    corrected_ac_errors = list(filter(lambda y: y != '',map(lambda x: x.rstrip('\\n'), lines)))"
   ]
  },
  {
   "cell_type": "code",
   "execution_count": 110,
   "metadata": {},
   "outputs": [],
   "source": [
    "corrected_words = []\n",
    "for index,x in enumerate(auto_spellchecker_non_recognized_accented):\n",
    "    if x[0] != corrected_ac_errors[index]:\n",
    "        corrected_words.append((x[0], corrected_ac_errors[index]))"
   ]
  },
  {
   "cell_type": "markdown",
   "metadata": {},
   "source": [
    "## Read the csv with suggestions after correction"
   ]
  },
  {
   "cell_type": "code",
   "execution_count": 111,
   "metadata": {},
   "outputs": [
    {
     "name": "stdout",
     "output_type": "stream",
     "text": [
      "Total suggestions corrected: 142\n"
     ]
    }
   ],
   "source": [
    "suggestions_csv = pd.read_csv('/home/rgomes/Downloads/suggestions filtered - suggestions.auto.csv')\n",
    "\n",
    "# remove empty cells\n",
    "suggestions_csv = suggestions_csv.replace(np.nan, '', regex=True)\n",
    "\n",
    "# remove unused columns\n",
    "suggestions_csv.drop(['is_italian_word', 'suggestions', 'HELPFUL LINK', 'Already removed words'], axis=1)\n",
    "\n",
    "# load the csv corrections\n",
    "suggestions_corrected = []\n",
    "for _, row in suggestions_csv.iterrows():\n",
    "    if row['spelling_correction']:\n",
    "        suggestions_corrected.append((row['word'], row['spelling_correction']))\n",
    "print('Total suggestions corrected:', len(suggestions_corrected))"
   ]
  },
  {
   "cell_type": "markdown",
   "metadata": {},
   "source": [
    "## Write the most common accented words not recognized by Hunspell"
   ]
  },
  {
   "cell_type": "code",
   "execution_count": 112,
   "metadata": {},
   "outputs": [
    {
     "name": "stdout",
     "output_type": "stream",
     "text": [
      "Total corrections 252\n",
      "Total accented words non recognized 21459\n"
     ]
    }
   ],
   "source": [
    "combined_corrections_map = list(set(corrected_words + suggestions_corrected))\n",
    "print('Total corrections {}'.format(len(combined_corrections_map)))\n",
    "combined_words_list = list(map(lambda x : x[0].lower(), combined_corrections_map))\n",
    "\n",
    "h_all_words = histogram(all_words)\n",
    "h_all_words_sorted = sorted(h_all_words.items(), key=lambda x: x[1], reverse=True)\n",
    "\n",
    "a_ordered = filter(lambda x: re.search(r'[À-ž\\'\\`]', x[0]), h_all_words_sorted)\n",
    "b_ordered = filter(lambda x: not it_spellchecker.spell(x[0]),a_ordered)\n",
    "c_ordered = filter(lambda x: not(x[0] in combined_words_list),b_ordered)\n",
    "\n",
    "accented_non_recognized = list(c_ordered)\n",
    "count2 = 0\n",
    "for w in accented_non_recognized:\n",
    "    count2 = count2 + w[1]\n",
    "print('Total accented words non recognized',count2)\n",
    "\n",
    "# save to be corrected\n",
    "with open('../ordered_last_errors.txt', 'w') as ordered_last_errors:\n",
    "    for item in accented_non_recognized:\n",
    "        ordered_last_errors.write(item[0] + '\\n')"
   ]
  },
  {
   "cell_type": "markdown",
   "metadata": {},
   "source": [
    "## Load the most common accented words corrections"
   ]
  },
  {
   "cell_type": "code",
   "execution_count": 113,
   "metadata": {},
   "outputs": [
    {
     "name": "stdout",
     "output_type": "stream",
     "text": [
      "92\n"
     ]
    }
   ],
   "source": [
    "last_corrections = []\n",
    "with open('../ordered_last_errors_corrected.txt') as ordered_last_corrections:\n",
    "    lines = list(map(lambda x: x.rstrip('\\n').lower(), ordered_last_corrections))\n",
    "    for index, item in enumerate(d):\n",
    "        if item[0] != lines[index]:\n",
    "            last_corrections.append((item[0],lines[index]))\n",
    "print(len(last_corrections))"
   ]
  },
  {
   "cell_type": "markdown",
   "metadata": {},
   "source": [
    "## Group all corrections realized"
   ]
  },
  {
   "cell_type": "code",
   "execution_count": 114,
   "metadata": {},
   "outputs": [
    {
     "name": "stdout",
     "output_type": "stream",
     "text": [
      "Total corrections 344\n",
      "Total corrections with repetition 4537\n"
     ]
    }
   ],
   "source": [
    "combined_corrections_map = list(set(corrected_words + suggestions_corrected + last_corrections))\n",
    "print('Total corrections {}'.format(len(combined_corrections_map)))\n",
    "\n",
    "\n",
    "combined_words_list = list(map(lambda x : x[0].lower(), combined_corrections_map))\n",
    "mapped_combined_words = list(filter(lambda x : x[0].lower() in combined_words_list, h_all_words_sorted))\n",
    "\n",
    "#remove rare cases and outliers\n",
    "# todo: remove nonsense words verified by norton\n",
    "total_words = list(filter(lambda x: x[1] > 1 and x[1] < 2200,mapped_combined_words))\n",
    "\n",
    "count = 0\n",
    "for w in total_words:\n",
    "    count = count + w[1]\n",
    "\n",
    "print('Total corrections with repetition {}'.format(count))"
   ]
  },
  {
   "cell_type": "markdown",
   "metadata": {},
   "source": [
    "## Export the corrections to verification and statistical analysis"
   ]
  },
  {
   "cell_type": "code",
   "execution_count": 115,
   "metadata": {},
   "outputs": [
    {
     "name": "stdout",
     "output_type": "stream",
     "text": [
      "133\n"
     ]
    }
   ],
   "source": [
    "all_count_dict = dict((a[0], a) for a in total_words)\n",
    "all_corrections_dict = dict((a[0], a) for a in combined_corrections_map)\n",
    "\n",
    "all_data = []\n",
    "for item in all_count_dict:\n",
    "    if all_corrections_dict.get(item):\n",
    "        all_data.append((item, all_count_dict[item][1], all_corrections_dict[item][1]))\n",
    "\n",
    "print(len(all_data))\n",
    "df = pd.DataFrame(all_data)\n",
    "df.to_csv('../final_corrections.csv')"
   ]
  },
  {
   "cell_type": "code",
   "execution_count": 116,
   "metadata": {},
   "outputs": [
    {
     "name": "stdout",
     "output_type": "stream",
     "text": [
      "166011\n",
      "110965\n"
     ]
    }
   ],
   "source": [
    "# make sure that all the corrections are counted, removing punctuations\n",
    "print(len(set(all_words)))\n",
    "# use the native python punctuation list but remove accents related like \"'^`~\n",
    "#print(string.punctuation)\n",
    "all_words_no_punctuation = list(map(lambda x: x.rstrip('!#$%&()*+,-./:;<=>?@[\\\\]_{|}') ,all_words))\n",
    "print(len(set(all_words_no_punctuation)))\n",
    "\n",
    "# save to be validated and check more errors on LibreOffice\n",
    "with open('../ordered_all_words_no_punctuation.txt', 'w') as file_all_1:\n",
    "    for w in all_words_no_punctuation:\n",
    "        file_all_1.write(w + '\\n')"
   ]
  },
  {
   "cell_type": "code",
   "execution_count": 117,
   "metadata": {},
   "outputs": [
    {
     "name": "stdout",
     "output_type": "stream",
     "text": [
      "344\n"
     ]
    }
   ],
   "source": [
    "asdfgh = list(map(lambda x: (x[0].rstrip('!#$%&()*+,-./:;<=>?@[\\\\]_{|}'), \n",
    "                    x[1].rstrip('!#$%&()*+,-./:;<=>?@[\\\\]_{|}')), combined_corrections_map))\n",
    "print(len(asdfgh))"
   ]
  },
  {
   "cell_type": "code",
   "execution_count": 118,
   "metadata": {},
   "outputs": [
    {
     "data": {
      "text/plain": [
       "[('Saró', 'Sarò'),\n",
       " ('giacchè', 'giacché'),\n",
       " ('bhè', 'bè'),\n",
       " ('aeroportp', 'aeroporto'),\n",
       " ('Barcelonette', 'Barcelonnette'),\n",
       " (\"c'e'\", \"c'è\"),\n",
       " (\"avra'\", 'avrà'),\n",
       " ('finchè', 'finché'),\n",
       " (\"All'aereoporto\", \"All'aeroporto\"),\n",
       " (\"all'EasyHotel\", \"all'Easy Hotel\"),\n",
       " ('Renè', 'René'),\n",
       " ('fuorchè', 'fuorché'),\n",
       " ('Raudonè', 'Raudoné'),\n",
       " ('Accando', 'accanto'),\n",
       " ('pressochè', 'pressoché'),\n",
       " ('Batthyàny', 'Batthyány'),\n",
       " ('Finchè', 'Finché'),\n",
       " ('archeoculturale', 'archeo culturale'),\n",
       " ('aiut', 'aiutò'),\n",
       " (\"l'escursioni\", \"l'escursione\"),\n",
       " ('perùresponsabile', 'perù responsabile'),\n",
       " (\"all'inetrno\", \"all'interno\"),\n",
       " ('bayernticket', 'bayern ticket'),\n",
       " (\"curiosita'\", 'curiosità'),\n",
       " ('possibilitá', 'possibilità'),\n",
       " ('serráno', 'serrano'),\n",
       " ('caffèlatte', 'caffè latte'),\n",
       " ('barcchetta', 'barchetta'),\n",
       " ('alcunii', 'alcuni'),\n",
       " ('CANTERBURYPoichè', 'CANTERBURY Poichè'),\n",
       " ('giá', 'già'),\n",
       " (\"c'e\", \"c'è\"),\n",
       " ('attaversano', 'attraversando'),\n",
       " ('affittamotorini', 'affitta motorini'),\n",
       " ('ancche', 'anchè'),\n",
       " ('rococcò', 'rococò'),\n",
       " (\"all'aroporto\", \"all'aeroporto\"),\n",
       " (\"c'é\", \"c'è\"),\n",
       " (\"formalita'\", 'formalità'),\n",
       " ('amplare', 'ampliare'),\n",
       " ('Cè', \"C'è\"),\n",
       " (\"e'\", \"\\ufeffe'\"),\n",
       " ('cittàe', 'città'),\n",
       " ('accettavan', 'accetavano'),\n",
       " ('Citè', 'Cité'),\n",
       " ('gia`', 'già'),\n",
       " ('Salè', 'Salé'),\n",
       " ('granchè', 'granché'),\n",
       " ('Pensiò', 'Pensió'),\n",
       " ('Proveró', 'Proverò'),\n",
       " ('Amgetorv', 'Amgertorv'),\n",
       " (\"l'itineario\", \"l'itinerario\"),\n",
       " ('AgostoIl', 'agosto il'),\n",
       " ('priorittà', 'priorità'),\n",
       " (\"avro'\", 'avrò'),\n",
       " ('altrakasa', \"L' Altra Kasa\"),\n",
       " ('ciclorisciò', 'ciclo risciò'),\n",
       " ('possibilitÃ', 'possibilità'),\n",
       " ('thè', 'tè'),\n",
       " ('acquiastare', 'acquistare'),\n",
       " ('quì', 'qui'),\n",
       " ('beauvais-parigiA', 'beauvais parigia'),\n",
       " ('Aft', 'afta'),\n",
       " ('Dopodichè', 'Dopodiché'),\n",
       " (\"lunedi'\", 'lunedì'),\n",
       " (\"mercoledi'\", 'mercoledì'),\n",
       " (\"all'appuntamente\", \"all'appuntamento\"),\n",
       " (\"varieta'\", 'varietà'),\n",
       " ('Bhé', 'Bé'),\n",
       " ('poichè', 'poiché'),\n",
       " (\"saro'\", 'sarò'),\n",
       " ('Aiutoooo', 'aiutò'),\n",
       " ('cosí', 'così'),\n",
       " (\"specialita'\", 'specialità'),\n",
       " ('avvenieristici', 'avveniristici'),\n",
       " ('piú', 'più'),\n",
       " (\"poiche'\", 'poiché'),\n",
       " (\"difficolta'\", 'difficoltà'),\n",
       " (\"(c'e\", \"(c'è\"),\n",
       " ('Sìììì', 'Sì'),\n",
       " (\"perche'inizialmente\", 'perché inizialmente'),\n",
       " ('Battlò', 'Batllò'),\n",
       " (\"po'perchè\", \"po'perché\"),\n",
       " ('avezze', 'avvezze'),\n",
       " (\"dall'areoporto\", \"dall'aeroporto\"),\n",
       " ('prechè', 'preché'),\n",
       " ('aereoporto', 'aeroporto'),\n",
       " ('Poichè', 'Poiché'),\n",
       " ('attaversare', 'attraversare'),\n",
       " ('priveè', 'privée'),\n",
       " ('approffitati', 'approfittati'),\n",
       " (\"sara'\", 'sarà'),\n",
       " ('café', 'caffè'),\n",
       " (\"potra'\", 'potrà'),\n",
       " ('acqistata', 'acquistata'),\n",
       " ('accompegnerà', 'accompagnerà'),\n",
       " (\"l'areoporto\", \"l'aeroporto\"),\n",
       " ('Allakulikhan', 'Allakuli khan'),\n",
       " ('Barguete', 'Burguete'),\n",
       " ('BatalhaCascais', 'Batalha Cascais'),\n",
       " ('avevao', 'avevano'),\n",
       " ('Cittá', 'Città'),\n",
       " ('namastè', 'namasté'),\n",
       " ('adosso', 'addosso'),\n",
       " ('particolarietà', 'particolarità'),\n",
       " (\"All'eroporto\", \"All'aeroporto\"),\n",
       " ('Aapettiamo', 'Aspettiamo'),\n",
       " (\"comodita'\", 'comodità'),\n",
       " ('Apranzo', 'A pranzo'),\n",
       " ('andimo', 'andiamo'),\n",
       " ('approffittato', 'approfittato'),\n",
       " ('lanceró', 'lancerò'),\n",
       " ('Basìlica', 'Basilica'),\n",
       " ('caffé', 'caffè'),\n",
       " ('attaversando', 'attraversando'),\n",
       " ('pìù', 'più'),\n",
       " ('riempierà', 'riempirà'),\n",
       " ('accomapagnava', 'accompagnava'),\n",
       " ('afffluenza', 'affluenza'),\n",
       " ('cafè', 'caffè'),\n",
       " ('avutouna', 'avuto una'),\n",
       " ('BarcellonaIntorno', 'Barcellona Intorno'),\n",
       " ('autorganizzato', 'auto organizzato'),\n",
       " ('mangierò', 'mangerò'),\n",
       " ('pottà', 'pòtta'),\n",
       " (\"perche'chi\", \"perché'chi\"),\n",
       " ('stà', 'sta'),\n",
       " (\"ne'\", 'né'),\n",
       " ('attivita`', 'attività'),\n",
       " ('benearrivato', 'ben arrivato'),\n",
       " ('Lunedí', 'Lunedì'),\n",
       " ('arrivermo', 'arriveremo'),\n",
       " ('bellodimamma', 'bello di mamma'),\n",
       " (\"giovedi'\", 'giovedì'),\n",
       " (\"liberta'\", 'libertà'),\n",
       " (\"Dall'aereoporto\", \"Dall'aeroporto\"),\n",
       " ('copieró', 'copierò'),\n",
       " (\"possibilita'\", \"possibilità'\"),\n",
       " (\"all'aereoporto\", \"all'aeroporto\"),\n",
       " (\"qualita'\", 'qualità'),\n",
       " ('Battlò', 'Battló'),\n",
       " ('aprofittiamo', 'approfittiamo'),\n",
       " (\"societa'\", 'società'),\n",
       " (\"l'arrdamento\", \"l'arredamento\"),\n",
       " ('Barcolana', 'Barcelona'),\n",
       " ('Squarchiò', 'Squarciò'),\n",
       " (\"realta'\", 'realtà'),\n",
       " (\"pubblicita'\", 'pubblicità'),\n",
       " ('acompagnarmi', 'accompagnarmi'),\n",
       " ('aereoplano', 'aeroplano'),\n",
       " ('cittàda', 'città da'),\n",
       " ('Arrviamo', 'Arriviamo'),\n",
       " ('Beghjnhoff', 'Begijnhof'),\n",
       " (\"all'acquawordl\", \"all'acquaworld\"),\n",
       " (\"prossimita'\", 'prossimità'),\n",
       " ('assitenza', 'assistenza'),\n",
       " ('Batthiany', 'Batthyány'),\n",
       " ('arraffazzonate', 'a rraffazzonate'),\n",
       " ('piu`', 'più'),\n",
       " ('perchè', 'perché'),\n",
       " (\"venerdi'\", 'venerdì'),\n",
       " ('Frappé', 'Frappè'),\n",
       " ('Café', 'Caffè'),\n",
       " ('autodisorganizzato', 'auto disorganizzato'),\n",
       " (\"verra'\", 'verrà'),\n",
       " ('archelogiche', 'archeologiche'),\n",
       " (\"perche'\", 'perché'),\n",
       " (\"giu'copiosa\", \"giù'copiosa\"),\n",
       " ('affollatisssssime', 'affollatissime'),\n",
       " ('adoloscenti', 'adolescenti'),\n",
       " (\"localita'\", 'località'),\n",
       " ('Pistè', 'Pisté'),\n",
       " ('belloooooooooo', 'bello'),\n",
       " ('pò', 'po’'),\n",
       " ('AIUTOOOO', 'aiutò'),\n",
       " ('Martedí', 'Martedì'),\n",
       " ('antibotico', 'antibiotico'),\n",
       " ('Arrivooo', 'Arrivo'),\n",
       " ('nonchè', 'nonché'),\n",
       " ('citta`', 'città'),\n",
       " ('cè', 'ce'),\n",
       " (\"qualc'uno\", 'qualcuno'),\n",
       " ('ahimé', 'ahimè'),\n",
       " ('cittè', 'città'),\n",
       " (\"finche'\", 'finché'),\n",
       " ('Barcellonette', 'Barcelonnette'),\n",
       " (\"corfu'\", 'corfù'),\n",
       " ('potosì', 'potosí'),\n",
       " ('Batttttttttttttttt', ''),\n",
       " ('accozzzaglia', 'accozzaglia'),\n",
       " ('pressocché', 'pressoché'),\n",
       " ('adattore', 'adattatore'),\n",
       " ('aimè', 'ahimè'),\n",
       " ('dopodichèm', 'dopodiché'),\n",
       " ('Perchè', 'Perché'),\n",
       " (\"tranquillita'\", \"tranquillità'\"),\n",
       " ('Archeveché', 'Archevêché'),\n",
       " ('addocchiato', 'adocchiato'),\n",
       " (\"all'apertocon\", \"all'aperto con\"),\n",
       " ('peró', 'però'),\n",
       " (\"Bll'inizio\", \"Bell'inizio\"),\n",
       " ('abiamo', 'abbiamo'),\n",
       " (\"giu'\", 'giù'),\n",
       " (\"citta'\", 'città'),\n",
       " ('affinchè', 'affinché'),\n",
       " ('perdippiù', 'per di più'),\n",
       " ('Akmeno', 'almeno'),\n",
       " ('Begijnhoff', 'Begijnhof'),\n",
       " (\"all'aereoporto\", \"All'aeroporto\"),\n",
       " (\"gia'\", 'già'),\n",
       " ('arrivanop', 'arrivamo'),\n",
       " ('agostoPartiamo', 'agosto Partiamo'),\n",
       " ('benissmo', 'benissimo'),\n",
       " (\"L'aereoporto\", \"L'aeroporto\"),\n",
       " ('scriveró', 'scriverò'),\n",
       " ('acquistatato', 'acquistato'),\n",
       " ('realtá', 'realtà'),\n",
       " (\"tranquillita'\", 'tranquillità'),\n",
       " ('BARIavendola', 'BARI avendola'),\n",
       " ('andrichiara', 'andrea chiara'),\n",
       " ('belloooooooooooooooooooo', 'bello'),\n",
       " ('acchitto', 'acchito'),\n",
       " (\"l'aereoporto\", \"l'aeroporto\"),\n",
       " ('apperzzare', 'apprezzare'),\n",
       " ('agostoSì', 'agosto Sì'),\n",
       " ('cittá', 'città'),\n",
       " ('arriviamoin', 'arriviamo in'),\n",
       " ('benchè', 'benché'),\n",
       " (\"all'Operà\", \"all'Opera\"),\n",
       " (\"disponibilita'\", 'disponibilità'),\n",
       " ('ahime', 'ahimè'),\n",
       " ('affittao', 'affitto'),\n",
       " ('Bhè', 'Bè'),\n",
       " ('accompegnerà', 'accompagnera'),\n",
       " (\"all'appestamento\", \"all'appartamento\"),\n",
       " ('(perchè', '(perché'),\n",
       " ('Patè', 'Paté'),\n",
       " (\"l'varemmo\", \"l'avremmo\"),\n",
       " ('Aereoporto', 'aeroporto'),\n",
       " ('arrieccomiiiii', 'arrieccomi'),\n",
       " ('anticipitamente', 'anticipatamente'),\n",
       " ('riceveró', 'riceverò'),\n",
       " ('avvicianiamo', 'avviciniamo'),\n",
       " ('akmeno', 'almeno'),\n",
       " ('c’e`', 'c’è'),\n",
       " (\"verita'\", 'verità'),\n",
       " ('nécessaire', 'necessaire'),\n",
       " (\"un'pò\", 'un pò'),\n",
       " ('puó', 'può'),\n",
       " ('architettonco', 'architettònico'),\n",
       " ('stò', 'sto'),\n",
       " (\"all'Aereoporto\", \"All'aeroporto\"),\n",
       " (\"scrivero'\", 'scriverò'),\n",
       " ('ammirara', 'ammirare'),\n",
       " (\"L'etat\", \"L'état\"),\n",
       " ('aereomobili', 'aeromobili'),\n",
       " ('perche`', 'perché'),\n",
       " ('allinterno', \"all'interno\"),\n",
       " ('ansisssiiiima', 'ansissima'),\n",
       " (\"quantita'\", 'quantità'),\n",
       " ('tessò', 'tesso'),\n",
       " (\"all'Alambra\", \"all'Alhambra\"),\n",
       " (\"all'Areopoago\", \"all'Areopago\"),\n",
       " ('anzichè', 'anziché'),\n",
       " ('asssoluto', 'assoluto'),\n",
       " ('alzatina', 'alzatine'),\n",
       " ('dopodichè', 'dopodiché'),\n",
       " (\"tornero'\", 'tornerò'),\n",
       " ('Musèe', 'Musée'),\n",
       " (\"nell'aereoporto\", \"nell'aeroporto\"),\n",
       " (\"attivita'\", 'attività'),\n",
       " ('agoasto', 'agosto'),\n",
       " ('benearrivata', 'ben arrivata'),\n",
       " ('azzeccosi', 'azzeccasi'),\n",
       " ('attivita', 'attività'),\n",
       " ('allimacbergamo', 'allimac bergamo'),\n",
       " ('amburgoho', 'amburgo'),\n",
       " (\"chissa'\", 'chissà'),\n",
       " ('altrimetni', 'altrimenti'),\n",
       " ('Arriviamoi', 'Arriviamo'),\n",
       " ('aquisti', 'acquisti'),\n",
       " (\"po'di\", \"po' di\"),\n",
       " ('allametro', 'alla metro'),\n",
       " ('aihmè', 'ahimè'),\n",
       " ('asciugamamani', 'asciugamani'),\n",
       " ('perchéil', 'perché il'),\n",
       " (\"cio'\", \"ciò'\"),\n",
       " ('perchè', '\\ufeffperché'),\n",
       " ('Aiutoooograzie', 'Aiuto grazie'),\n",
       " (\"piu'\", 'più'),\n",
       " ('puo`', 'può'),\n",
       " ('obbligherá', 'obbligherà'),\n",
       " ('avvicinamentoQualche', 'avvicinamento Qualche'),\n",
       " ('appararentemente', 'apparentemente'),\n",
       " ('agostoSì', 'agosto si'),\n",
       " (\"percio'\", 'perciò'),\n",
       " ('sapòne', 'sapóne'),\n",
       " ('faró', 'farò'),\n",
       " (\"all'AvanaDunque\", \"all'Avana Dunque\"),\n",
       " ('anddati', 'andati'),\n",
       " ('multietnicità', 'multi etnicità'),\n",
       " (\"puo'\", 'può'),\n",
       " (\"cioe'\", 'cioè'),\n",
       " ('chè', 'ché'),\n",
       " ('pavè', 'pavé'),\n",
       " ('ascoltarloi', 'ascoltarlo'),\n",
       " ('neanchè', 'neanche'),\n",
       " ('arrresi', 'arresi'),\n",
       " ('dovrá', 'dovrà'),\n",
       " (\"all'Operett\", \"all'Operetta\"),\n",
       " ('Ció', 'Ciò'),\n",
       " ('purchè', 'purché'),\n",
       " (\"pero'\", 'però'),\n",
       " ('Batlò', 'Batllò'),\n",
       " ('Sòller', 'Sóller'),\n",
       " ('Almuneda', 'Almudena'),\n",
       " (\"velocita'\", 'velocità'),\n",
       " ('accippicchia', 'accipicchia'),\n",
       " ('postività', 'positività'),\n",
       " ('cosìbistrattato', 'così bistrattato'),\n",
       " ('amtrimonio', 'matrimonio'),\n",
       " (\"caffe'\", 'caffè'),\n",
       " ('sà', 'sa'),\n",
       " ('Adoroviaggiare', 'Adoro viaggiare'),\n",
       " ('entrèe', 'entrée'),\n",
       " ('inggiù', 'ingiù'),\n",
       " ('avra', 'avrà')]"
      ]
     },
     "execution_count": 118,
     "metadata": {},
     "output_type": "execute_result"
    }
   ],
   "source": [
    "list(set(asdfgh))"
   ]
  },
  {
   "cell_type": "code",
   "execution_count": 119,
   "metadata": {},
   "outputs": [
    {
     "name": "stdout",
     "output_type": "stream",
     "text": [
      "FINAL Total corrections with repetition 6682\n"
     ]
    }
   ],
   "source": [
    "combined_words_list_final = list(map(lambda x : x[0].lower(), asdfgh))\n",
    "mapped_combined_words_final = list(filter(lambda x : x[0].lower() in combined_words_list_final, h_all_words_sorted))\n",
    "\n",
    "count_total = 0\n",
    "for w in mapped_combined_words_final:\n",
    "    count_total = count_total + w[1]\n",
    "\n",
    "print('FINAL Total corrections with repetition {}'.format(count_total))"
   ]
  },
  {
   "cell_type": "code",
   "execution_count": null,
   "metadata": {},
   "outputs": [],
   "source": [
    "all_count_dict_final = dict((a[0], a) for a in mapped_combined_words_final)\n",
    "all_corrections_dict_final = dict((a[0], a) for a in asdfgh)\n",
    "all_data_final = []\n",
    "for item in all_count_dict_final:\n",
    "    if all_corrections_dict_final.get(item):\n",
    "        all_data_final.append((item, all_count_dict_final[item][1], all_corrections_dict_final[item][1]))\n",
    "\n",
    "print(len(all_data_final))\n",
    "df = pd.DataFrame(all_data_final)\n",
    "df.to_csv('../final_corrections2.csv')"
   ]
  }
 ],
 "metadata": {
  "kernelspec": {
   "display_name": "Python 3",
   "language": "python",
   "name": "python3"
  },
  "language_info": {
   "codemirror_mode": {
    "name": "ipython",
    "version": 3
   },
   "file_extension": ".py",
   "mimetype": "text/x-python",
   "name": "python",
   "nbconvert_exporter": "python",
   "pygments_lexer": "ipython3",
   "version": "3.6.4"
  }
 },
 "nbformat": 4,
 "nbformat_minor": 2
}

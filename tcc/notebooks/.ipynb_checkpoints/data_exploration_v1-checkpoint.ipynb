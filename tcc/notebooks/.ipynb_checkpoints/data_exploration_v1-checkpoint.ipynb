{
 "cells": [
  {
   "cell_type": "code",
   "execution_count": 1,
   "metadata": {},
   "outputs": [],
   "source": [
    "import itertools\n",
    "import codecs\n",
    "import json\n",
    "import re\n",
    "import string\n",
    "from matplotlib import pyplot as plt\n",
    "import numpy as np\n",
    "import pandas as pd\n",
    "import hunspell\n",
    "\n",
    "hu_spellchecker = hunspell.HunSpell('/home/rgomes/dictionaries/dictionaries/hu/index.dic', '/home/rgomes/dictionaries/dictionaries/hu/index.aff')\n",
    "it_spellchecker = hunspell.HunSpell('/home/rgomes/dictionaries/dictionaries/it/index.dic', '/home/rgomes/dictionaries/dictionaries/it/index.aff')"
   ]
  },
  {
   "cell_type": "markdown",
   "metadata": {},
   "source": [
    "### Pre processing ###\n",
    "1. Load the datasets\n",
    "2. Format as post and save\n",
    "3. Remove the enconding issues and stopwords\n",
    "4. Analise the frequence of words\n",
    "5. Save the results as bag of words"
   ]
  },
  {
   "cell_type": "code",
   "execution_count": 2,
   "metadata": {},
   "outputs": [],
   "source": [
    "# TODO check the relevance of language encoding\n",
    "# see https://docs.python.org/2/library/codecs.html\n",
    "# see https://www.terena.org/activities/multiling/ml-docs/iso-8859.html\n",
    "\n",
    "data_hu = pd.read_json('../hungarian.txt')\n",
    "file = open('../italian.txt', 'r')\n",
    "data_it = []\n",
    "for line in file:\n",
    "    data_it.append(json.loads(line))\n",
    "\n",
    "data_it = pd.DataFrame(data_it)"
   ]
  },
  {
   "cell_type": "code",
   "execution_count": 3,
   "metadata": {},
   "outputs": [],
   "source": [
    "def replace_numbers(words):\n",
    "    new_words = []\n",
    "    for word in words:\n",
    "        new_word = re.sub(r'[0-9]', '', word)\n",
    "        if new_word != '':\n",
    "            new_words.append(new_word)\n",
    "    return new_words"
   ]
  },
  {
   "cell_type": "code",
   "execution_count": 122,
   "metadata": {},
   "outputs": [
    {
     "name": "stderr",
     "output_type": "stream",
     "text": [
      "/home/rgomes/anaconda3/lib/python3.6/site-packages/xlsxwriter/worksheet.py:830: UserWarning: Ignoring URL 'https://www.tripadvisor.it/ShowTopic-g186470…La%20fase%20preparatoria%20:1)%20Lettura%20di%20un%20po'%20di%20libri%20(vedi%20link)2)%20Trovare%20qualcuno%20che%20non%20mi%20dicesse%20%22A%20Belfast???%223)%20Prenotazione%20del%20volo%20Ryanair%20(40€%20a/r)Il%20punto%202%20è%20stato%20risolto%20grazie%20ad%20un'amica%20che%20più%20riceve%20proposte%20per%20mete%20%22fuori%20mano%22%20e%20più%20parte!Punti%201%20e%203%20facilissimi.Non%20esiste%20una%20guida%20turistica%20su%20Belfast,%20ho%20setacciato%20tutte%20le%20librerie%20di%20Milano%20ma%20non%20ho%20trovato%20niente.%20Meglio%20così,%20ho%20letto%20i%20libri%20e%20molti%20articoli%20on%20line,%20da%20cui%20ho%20preso%20diversi%20appunti.%20Sapere%20dove%20mangiare%20o%20bere%20non%20mi%20interessa%20poi%20così%20tanto.\n",
      "Modificato:%2026%20gennaio%202017,%2021:29%20' with link or location/anchor > 255 characters since it exceeds Excel's limit for URLS\n",
      "  force_unicode(url))\n",
      "/home/rgomes/anaconda3/lib/python3.6/site-packages/xlsxwriter/worksheet.py:830: UserWarning: Ignoring URL 'https://www.tripadvisor.it/Hotel_Review-g186…Arriviamo%20in%20centro%20,%20dove%20si%20trova%20l'albergo%20Europa%20(un%20pannello%20racconta%20che%20è%20l'albergo%20più%20bombardato%20al%20mondo...ne%20riparleremo),andiamo%20in%20Donegall%20Squadre,%20dove%20sorge%20l'imponente%20Municipio%20di%20Belfast%20(punto%20di%20riferimento%20per%20muoversi%20in%20città)%20e%20poi%20proseguiamo,%20sempre%20a%20piedi,%20alla%20ricerca%20del%20nostro%20albergo.Nel%20link%20trovate%20la%20mia%20recensione,%20albergo%20prenotato%20grazie%20ad%20una%20super%20offerta%20su%20booking.\n",
      "\n",
      "Si%20trova%20nella%20zona%20della%20Queen's%20University,%20forse%20la%20zona%20più%20carina%20(in%20senso%20classico)%20di%20Belfast,%20ma%20a%20Belfast%20non%20si%20va%20per%20la%20bellezza%20%22classica%22!.Non%20appena%20incontriamo%20la%20prima%20difficoltà,%20si%20avvicina%20una%20signora%20e%20ci%20chiede%20se%20può%20aiutarci.%20Gentili,%20questi%20nordirlandesi,%20ci%20sentiamo%20accolte.Argomento%20lingua%20:%20a%20parte%20%22Vincent%20Cassel%22,%20qui%20vale%20il%20motto%20%22%20lingue%20straniere,%20queste%20sconosciute!%22%20e%20non%20parlo%20dello%20swaili,%20ma%20di%20lingue%20%22importanti%22%20come%20il%20tedesco,%20il%20francese,%20lo%20spagnolo.%20Quindi%20ti%20aiutano,%20sono%20gentili,%20ma%20nella%20loro%20lingua.%20Noi%20parliamo%20inglese%20(la%20mia%20amica%20benissimo),%20abbiamo%20solo%20problemi%20con%20la%20terrificante%20pronuncia%20nordirlandese,%20ma%20va%20beh,%20tutta%20esperienza!:-)\n",
      "Modificato:%2026%20gennaio%202017,%2022:16%20' with link or location/anchor > 255 characters since it exceeds Excel's limit for URLS\n",
      "  force_unicode(url))\n",
      "/home/rgomes/anaconda3/lib/python3.6/site-packages/xlsxwriter/worksheet.py:830: UserWarning: Ignoring URL 'http://imgur.com/a/cmzZQ\n",
      "\n",
      "Ciao%20Ricciola,%20abbiamo%20optato%20per%20Praiano%20perchè%20incluso%20nel%20prezzo%20(%20non%20esagerato%20)%20c'era%20anche%20il%20parcheggio,%20a%20Positano%20non%20avevo%20trovato%20sistemazioni%20simili.%20Per%20il%20prossimo%20viaggio%20cercherò%20meglio..\n",
      "' with link or location/anchor > 255 characters since it exceeds Excel's limit for URLS\n",
      "  force_unicode(url))\n",
      "/home/rgomes/anaconda3/lib/python3.6/site-packages/xlsxwriter/worksheet.py:830: UserWarning: Ignoring URL 'https://imageshack.us/i/p8TzvXcxjSiamo%20dunque%20al%2031/12,%20a%20Istanbul%20per%20il%20secondo%20giorno%20nevica.%20Ci%20sono%20problemi%20con%20i%20voli,%20molti%20dei%20quali%20vengono%20cancellati.%20Due%20dei%20quattro%20ragazzi%20che%20erano%20in%20tour%20in%20Cappadocia%20rimangono%20bloccati%20e%20quindi%20decidono%20di%20avviarsi%20ad%20Istanbul%20in%20bus.%20Altri%20ragazzi%20arrivano%20proprio%20qualche%20minuto%20prima%20del%20brindisi%20proprio%20a%20causa%20dei%20ritardi.%20Altri%20ancora%20non%20arriveranno%20in%20tempo,%20ma%20li%20conosceremo%20nelle%20giornate%20successive.https://imageshack.us/i/p5eNDK2Jj\n",
      "\n",
      "https://imageshack.us/i/p8shcoJVjE%20ora%20il%20video%20creato%20da%20Salvo%20uno%20degli%20'eroi%20della%20Cappadocia'https://youtu.be/tovHjRIIIE4Nella%20speranza%20che%20qualcuno%20prenda%20spunto%20da%20questa%20bellissima%20idea\n",
      "Modificato:%2009%20gennaio%202016,%2015:51%20' with link or location/anchor > 255 characters since it exceeds Excel's limit for URLS\n",
      "  force_unicode(url))\n",
      "/home/rgomes/anaconda3/lib/python3.6/site-packages/xlsxwriter/worksheet.py:830: UserWarning: Ignoring URL 'https://imageshack.com/i/idZ02ghxj\n",
      "\n",
      "https://imageshack.com/i/ex6mDVSnj\n",
      "\n",
      "Usciti%20dal%20Kalamegden%20imbocco%20la%20Mihailova,%20una%20lunga%20via%20pedonale%20che%20può%20essere%20considerata%20il%20corso%20di%20Belgrado.%20Non%20ci%20sono%20negozi%20ultralussuosi%20se%20non%20qualche%20gioielleria%20,ma%20piuttosto%20librerie,%20venditori%20di%20quadri,%20souvenir,%20tantissimi%20caffè%20e%20tanto%20struscio.\n",
      "\n",
      "https://imageshack.com/i/idOKKr12j\n",
      "\n",
      "https://imageshack.com/i/ezJ2xsMvj\n",
      "\n",
      "https://imageshack.com/i/f0Rp14iCj\n",
      "\n",
      "https://imageshack.com/i/idD5x7Rpj\n",
      "' with link or location/anchor > 255 characters since it exceeds Excel's limit for URLS\n",
      "  force_unicode(url))\n",
      "/home/rgomes/anaconda3/lib/python3.6/site-packages/xlsxwriter/worksheet.py:830: UserWarning: Ignoring URL 'http://i44.tinypic.com/2hhdfyh.jpg%20tramonto%20sul%20Tamigi...\n",
      "\n",
      "http://i39.tinypic.com/zmm7aw.jpg%20Houses%20of%20Parliament%20e%20il%20suo%20albero%20di%20Natale%20:)\n",
      "\n",
      "http://i39.tinypic.com/2ibdjpj.jpg%20Batteria%20finale%20fuochi%20(i%20profumi%20non%20posso%20farveli%20sentire%20:D)\n",
      "\n",
      "http://i44.tinypic.com/33aug5d.jpg%20Dopo%20tutti%20gli%20animali%20visti%20al%20Natural%20History%20Museum...%20\n",
      "\n",
      "http://i40.tinypic.com/2cdaom9.jpg%20Cortile%20interno%20del%20Parlamento\n",
      "' with link or location/anchor > 255 characters since it exceeds Excel's limit for URLS\n",
      "  force_unicode(url))\n",
      "/home/rgomes/anaconda3/lib/python3.6/site-packages/xlsxwriter/worksheet.py:830: UserWarning: Ignoring URL 'http://postimg.org/image/q6qq5hu7n/\n",
      "\n",
      "http://postimg.org/image/3ptrg6d6b/\n",
      "\n",
      "http://postimg.org/image/tdpv2v41f/\n",
      "\n",
      "http://postimg.org/image/5r353cjsj/\n",
      "\n",
      "http://postimg.org/image/4mdobpmpf/\n",
      "\n",
      "http://postimg.org/image/imowvc377/\n",
      "\n",
      "http://postimg.org/image/6orxv6otv/\n",
      "\n",
      "http://postimg.org/image/d01qpcfg3/\n",
      "\n",
      "sopra%20:%20partenza%20da%20venezia\n",
      "\n",
      "http://postimg.org/image/4ahzaqqh1/\n",
      "\n",
      "http://postimg.org/image/wr7ahghol/\n",
      "\n",
      "http://postimg.org/image/7drw5lk79/\n",
      "\n",
      "http://postimg.org/image/5bw053blx/\n",
      "\n",
      "http://postimg.org/image/72f16kt51/\n",
      "\n",
      "http://postimg.org/image/56s8vf4at/\n",
      "\n",
      "in%20nave\n",
      "' with link or location/anchor > 255 characters since it exceeds Excel's limit for URLS\n",
      "  force_unicode(url))\n",
      "/home/rgomes/anaconda3/lib/python3.6/site-packages/xlsxwriter/worksheet.py:830: UserWarning: Ignoring URL 'http://i31.tinypic.com/2ec2r2f.jpgLa%20palma%20svettante%20ci%20accoglie%20con%20l’abbraccio%20delle%20sue%20larghe%20foglie%20sotto%20la%20cui%20ombra%20parcheggiamo%20grati;%20il%20sole%20è%20allo%20zenit%20più%20implacabile%20che%20mai.%20Le%20vigne%20sono%20coperte%20dalle%20grandi%20reti%20bianche%20messe%20a%20salvaguardare%20i%20frutti%20dall’ingordigia%20degli%20uccelli.%20Alzato%20il%20lembo%20laterale%20della%20rete%20ci%20troviamo%20davanti%20allo%20spettacolo%20dei%20grappoli%20che%20pendono%20dai%20tralci,%20sapientemente%20allineati%20dal%20maestro%20di%20vigna%20che%20li%20ha%20in%20precedenza%20separati%20e%20legati%20uno%20ad%20uno,%20nettati%20dai%20chicchi%20superflui%20e%20dall’acinino%20per%20permettere%20al%20frutto%20di%20compiere%20la%20maturazione%20con%20lo%20spazio%20adeguato%20e%20per%20offrire%20all’occhio%20una%20simmetria%20perfetta.%20\n",
      "\n",
      "http://i32.tinypic.com/11rg137.jpg\n",
      "\n",
      " \n",
      "' with link or location/anchor > 255 characters since it exceeds Excel's limit for URLS\n",
      "  force_unicode(url))\n"
     ]
    }
   ],
   "source": [
    "writer = pd.ExcelWriter('italian.xlsx')\n",
    "it_posts.to_excel(writer,'Italian Posts')\n",
    "\n",
    "writer2 = pd.ExcelWriter('hungarian.xlsx')\n",
    "hu_posts.to_excel(writer2,'Hungarian Posts')"
   ]
  },
  {
   "cell_type": "markdown",
   "metadata": {},
   "source": [
    " # Mark the words that contains accents not recognized by the spellchecker"
   ]
  },
  {
   "cell_type": "code",
   "execution_count": null,
   "metadata": {},
   "outputs": [],
   "source": [
    "# ITALIAN\n",
    "breakline = '\\n===============================================================================\\n'\n",
    "\n",
    "# remove all breaklines\n",
    "it_posts = data_it[\"text\"].apply(lambda x: x.replace(\"\\n\\n\\n\\n\", \"\"))\n",
    "\n",
    "it_accented_words = []\n",
    "\n",
    "for line in it_posts:\n",
    "    words = line.split()\n",
    "    words = replace_numbers(words)\n",
    "    for word in words:\n",
    "        # save the accented words not recognized\n",
    "        if re.search(r'[À-ž\\'\\`]', word) and not it_spellchecker.spell(word):\n",
    "            it_accented_words.append(word)\n",
    "            \n",
    "print(len(list(set(it_accented_words))))\n",
    "print(it_accented_words)\n",
    "\n",
    "# save hungarian separated by posts\n",
    "it_posts_accented_file = open('../italian_posts_accents.txt','w') \n",
    "accented_posts = []\n",
    "            \n",
    "print(accented_posts[1])"
   ]
  },
  {
   "cell_type": "code",
   "execution_count": null,
   "metadata": {},
   "outputs": [],
   "source": [
    "a = data_it['text'][10]\n",
    "print(a)\n",
    "print(re.search(r'[À-ž\\'\\`]', a))"
   ]
  },
  {
   "cell_type": "code",
   "execution_count": null,
   "metadata": {
    "scrolled": false
   },
   "outputs": [],
   "source": [
    "# save formatted as posts\n",
    "breakline = '\\n===============================================================================\\n'\n",
    "\n",
    "hu_posts = data_hu[\"text\"]\n",
    "\n",
    "hu_accented_words = []\n",
    "\n",
    "for line in hu_posts:\n",
    "    words = line.split()\n",
    "\n",
    "    words = remove_punctuation(words)\n",
    "    words = replace_numbers(words)\n",
    "    for word in words:\n",
    "        if re.match(r'(\\w+[À-ž]\\w+)', word) and not hu_spellchecker.spell(word):\n",
    "            hu_accented_words.append(word)\n",
    "            \n",
    "print(len(set(hu_accented_words)))\n",
    "#print(hu_accented_words)"
   ]
  },
  {
   "cell_type": "code",
   "execution_count": null,
   "metadata": {},
   "outputs": [],
   "source": [
    "# save formatted as posts\n",
    "breakline = '\\n===============================================================================\\n'\n",
    "\n",
    "# remove all breaklines\n",
    "it_posts = data_it[\"text\"].apply(lambda x: x.replace(\"\\n\\n\\n\\n\", \"\"))\n",
    "\n",
    "# save hungarian separated by posts\n",
    "it_posts_file = open('../italian_posts.txt','w') \n",
    "for line in it_posts:\n",
    "    #print(line)\n",
    "    it_posts_file.write(line)\n",
    "    it_posts_file.write(breakline)\n",
    "it_posts_file.close()\n",
    "\n",
    "# save hungarian separated by posts\n",
    "hu_posts = data_hu['text']\n",
    "\n",
    "hu_posts_file = open('../hungarian_posts.txt','w') \n",
    "for line in hu_posts:\n",
    "    #print(line)\n",
    "    hu_posts_file.write(line)\n",
    "    hu_posts_file.write(breakline)\n",
    "hu_posts_file.close()"
   ]
  },
  {
   "cell_type": "code",
   "execution_count": null,
   "metadata": {},
   "outputs": [],
   "source": [
    "print('%s hungarian posts' % len(data_hu))\n",
    "data_hu.head()"
   ]
  },
  {
   "cell_type": "code",
   "execution_count": null,
   "metadata": {},
   "outputs": [],
   "source": [
    "print('%s italian posts' % len(data_it))\n",
    "data_it.head(10)"
   ]
  },
  {
   "cell_type": "code",
   "execution_count": 6,
   "metadata": {},
   "outputs": [],
   "source": [
    "def histogram(list):\n",
    "    d={}\n",
    "    for i in list:\n",
    "        if i in d:\n",
    "            d[i] += 1\n",
    "        else:\n",
    "            d[i] = 1\n",
    "    return d"
   ]
  },
  {
   "cell_type": "code",
   "execution_count": 7,
   "metadata": {},
   "outputs": [],
   "source": [
    "def itokenize(iterator):\n",
    "    # split to every word\n",
    "    X = map(lambda x: x.split(\" \"), iterator)\n",
    "    return X"
   ]
  },
  {
   "cell_type": "code",
   "execution_count": 8,
   "metadata": {},
   "outputs": [],
   "source": [
    "def clearAndTokenize(dataframe):\n",
    "   # replace all non characters letters like !,(,),.,@,[,],breakline'\n",
    "    X = map(lambda x: x.replace(\"\\n\", \" \"), dataframe)\n",
    "    X = map(lambda x: re.sub(r'[\\W]', ' ', x), X)\n",
    "\n",
    "    # split to every word\n",
    "    X = map(lambda x: x.split(\" \"), X)\n",
    "    # transform to list\n",
    "    X = itertools.chain.from_iterable(X)\n",
    "\n",
    "    # remove all words that not contains latin accents\n",
    "    # see http://www.rexegg.com/regex-interesting-character-classes.html#obnoxious\n",
    "    #X = filter(lambda x: re.match(r'[À-ÖØ-öø-ÿ]', x) , X)\n",
    "\n",
    "    # remove the words with one letter, numbers and basic cases\n",
    "    X = filter(lambda i: not str.isdigit(i) and len(i) > 1 and i != 'és', X)\n",
    "    return list(X)"
   ]
  },
  {
   "cell_type": "code",
   "execution_count": 9,
   "metadata": {},
   "outputs": [],
   "source": [
    "def plotHistogram(data):\n",
    "    h = histogram(X)\n",
    "    h = sorted(h.items(), key=lambda x: x[1], reverse=True)\n",
    "    h = map(lambda x: x[1], h)\n",
    "    # remove the words that appears only once\n",
    "    h = filter(lambda x: x > 1, h)\n",
    "\n",
    "    plt.plot(list(h))\n",
    "    plt.show()"
   ]
  },
  {
   "cell_type": "markdown",
   "metadata": {},
   "source": [
    "## Hunspell  ## \n",
    "1. Load the spell checking tools\n",
    "2. Save the not recognized for volunteer analysis"
   ]
  },
  {
   "cell_type": "code",
   "execution_count": 34,
   "metadata": {
    "scrolled": true
   },
   "outputs": [
    {
     "name": "stdout",
     "output_type": "stream",
     "text": [
      "['Das Restaurant liegt direkt an der Ortsdurchgangsstrasse mit Parkplätzen.Das Essen am Spätnachmittag war sehr köstlich und die Preis -Leistung war OK. Die Bedienung war sehr freundlich und sprach gut Deutsch']\n",
      "Parkplätzen.Das\n",
      "False\n",
      "['Parkplätzen. Das', 'Parlamentarizmus']\n",
      "Spätnachmittag\n",
      "False\n",
      "['Namib-sivatag']\n",
      "köstlich\n",
      "False\n",
      "['Kulich']\n"
     ]
    }
   ],
   "source": [
    "check = clearAndTokenize(data_hu['text'].values.tolist())\n",
    "posts = data_hu['text'].values.tolist()\n",
    "hu_list = list(posts)\n",
    "print(hu_list[:1])\n",
    "tokens = itokenize(hu_list[:1])\n",
    "#print(list(tokens))\n",
    "for word in list(tokens)[0]:\n",
    "    accented_word = re.match(r'(\\w+[À-ž]\\w+)', word)\n",
    "    if accented_word:\n",
    "        print(word)\n",
    "        print(hu_spellchecker.spell(word))\n",
    "        print(hu_spellchecker.suggest(word))"
   ]
  },
  {
   "cell_type": "code",
   "execution_count": 11,
   "metadata": {},
   "outputs": [],
   "source": [
    "file = open('../hungarian_suggestions.json','w') \n",
    "import json\n",
    "json.dump(list(check), file, indent=1)\n",
    "file.close()"
   ]
  },
  {
   "cell_type": "code",
   "execution_count": 12,
   "metadata": {},
   "outputs": [
    {
     "data": {
      "image/png": "[encoded data removed]",
      "text/plain": [
       "<matplotlib.figure.Figure at 0x7fda1f3fe0f0>"
      ]
     },
     "metadata": {},
     "output_type": "display_data"
    },
    {
     "name": "stdout",
     "output_type": "stream",
     "text": [
      "10416 italian accent\n"
     ]
    }
   ],
   "source": [
    "X = data_it['text']\n",
    "plotHistogram(X)\n",
    "\n",
    "print(len(X), 'italian accent')\n",
    "#print(X[:1000])"
   ]
  },
  {
   "cell_type": "markdown",
   "metadata": {},
   "source": [
    "### Pos processing ###\n",
    "1. Load the volunteer data\n",
    "2. Analyse the distribuition of erros\n",
    "3. Summ the patterns found"
   ]
  }
 ],
 "metadata": {
  "kernelspec": {
   "display_name": "Python 3",
   "language": "python",
   "name": "python3"
  },
  "language_info": {
   "codemirror_mode": {
    "name": "ipython",
    "version": 3
   },
   "file_extension": ".py",
   "mimetype": "text/x-python",
   "name": "python",
   "nbconvert_exporter": "python",
   "pygments_lexer": "ipython3",
   "version": "3.6.4"
  }
 },
 "nbformat": 4,
 "nbformat_minor": 2
}

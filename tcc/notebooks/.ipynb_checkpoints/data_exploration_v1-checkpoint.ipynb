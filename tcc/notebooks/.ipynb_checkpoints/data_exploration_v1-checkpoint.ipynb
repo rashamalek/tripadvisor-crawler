{
 "cells": [
  {
   "cell_type": "code",
   "execution_count": 142,
   "metadata": {},
   "outputs": [],
   "source": [
    "import numpy as np\n",
    "import pandas as pd"
   ]
  },
  {
   "cell_type": "code",
   "execution_count": 143,
   "metadata": {
    "scrolled": true
   },
   "outputs": [],
   "source": [
    "data_hu = pd.read_json('../hungarian.txt')\n",
    "data_tr = pd.read_json('../turkish.txt')"
   ]
  },
  {
   "cell_type": "code",
   "execution_count": 144,
   "metadata": {},
   "outputs": [
    {
     "name": "stdout",
     "output_type": "stream",
     "text": [
      "103 hungarian posts\n"
     ]
    },
    {
     "data": {
      "text/html": [
       "<div>\n",
       "<style scoped>\n",
       "    .dataframe tbody tr th:only-of-type {\n",
       "        vertical-align: middle;\n",
       "    }\n",
       "\n",
       "    .dataframe tbody tr th {\n",
       "        vertical-align: top;\n",
       "    }\n",
       "\n",
       "    .dataframe thead th {\n",
       "        text-align: right;\n",
       "    }\n",
       "</style>\n",
       "<table border=\"1\" class=\"dataframe\">\n",
       "  <thead>\n",
       "    <tr style=\"text-align: right;\">\n",
       "      <th></th>\n",
       "      <th>link</th>\n",
       "      <th>source</th>\n",
       "      <th>text</th>\n",
       "      <th>title</th>\n",
       "    </tr>\n",
       "  </thead>\n",
       "  <tbody>\n",
       "    <tr>\n",
       "      <th>0</th>\n",
       "      <td>https://www.tripadvisor.co.hu/Hotel_Review-g11...</td>\n",
       "      <td>tripadvisorhu</td>\n",
       "      <td>Das Restaurant liegt direkt an der Ortsdurchga...</td>\n",
       "      <td>Pahok Panzio (Alsópáhok) - Értékelések és Árös...</td>\n",
       "    </tr>\n",
       "    <tr>\n",
       "      <th>1</th>\n",
       "      <td>https://www.tripadvisor.co.hu/Hotel_Review-g11...</td>\n",
       "      <td>tripadvisorhu</td>\n",
       "      <td>Ich war am 8.7.2013 mit meiner Tochter am früh...</td>\n",
       "      <td>Pahok Panzio (Alsópáhok) - Értékelések és Árös...</td>\n",
       "    </tr>\n",
       "    <tr>\n",
       "      <th>2</th>\n",
       "      <td>https://www.tripadvisor.co.hu/Hotel_Review-g11...</td>\n",
       "      <td>tripadvisorhu</td>\n",
       "      <td>5nap 4 éjszakát töltöttünk itt! Elégedettek vo...</td>\n",
       "      <td>Antonia Wellness Vendeghaz (Alsópáhok) - Érték...</td>\n",
       "    </tr>\n",
       "    <tr>\n",
       "      <th>3</th>\n",
       "      <td>https://www.tripadvisor.co.hu/Hotel_Review-g11...</td>\n",
       "      <td>tripadvisorhu</td>\n",
       "      <td>Приехав в эту местность Венгрии, попадаешь в м...</td>\n",
       "      <td>Villa Alexandr (Alsópáhok) - Értékelések és Ár...</td>\n",
       "    </tr>\n",
       "    <tr>\n",
       "      <th>4</th>\n",
       "      <td>https://www.tripadvisor.co.hu/Hotel_Review-g11...</td>\n",
       "      <td>tripadvisorhu</td>\n",
       "      <td>Снимали 2-й этаж полностью (4 спальни и кухня)...</td>\n",
       "      <td>Villa Alexandr (Alsópáhok) - Értékelések és Ár...</td>\n",
       "    </tr>\n",
       "  </tbody>\n",
       "</table>\n",
       "</div>"
      ],
      "text/plain": [
       "                                                link         source  \\\n",
       "0  https://www.tripadvisor.co.hu/Hotel_Review-g11...  tripadvisorhu   \n",
       "1  https://www.tripadvisor.co.hu/Hotel_Review-g11...  tripadvisorhu   \n",
       "2  https://www.tripadvisor.co.hu/Hotel_Review-g11...  tripadvisorhu   \n",
       "3  https://www.tripadvisor.co.hu/Hotel_Review-g11...  tripadvisorhu   \n",
       "4  https://www.tripadvisor.co.hu/Hotel_Review-g11...  tripadvisorhu   \n",
       "\n",
       "                                                text  \\\n",
       "0  Das Restaurant liegt direkt an der Ortsdurchga...   \n",
       "1  Ich war am 8.7.2013 mit meiner Tochter am früh...   \n",
       "2  5nap 4 éjszakát töltöttünk itt! Elégedettek vo...   \n",
       "3  Приехав в эту местность Венгрии, попадаешь в м...   \n",
       "4  Снимали 2-й этаж полностью (4 спальни и кухня)...   \n",
       "\n",
       "                                               title  \n",
       "0  Pahok Panzio (Alsópáhok) - Értékelések és Árös...  \n",
       "1  Pahok Panzio (Alsópáhok) - Értékelések és Árös...  \n",
       "2  Antonia Wellness Vendeghaz (Alsópáhok) - Érték...  \n",
       "3  Villa Alexandr (Alsópáhok) - Értékelések és Ár...  \n",
       "4  Villa Alexandr (Alsópáhok) - Értékelések és Ár...  "
      ]
     },
     "execution_count": 144,
     "metadata": {},
     "output_type": "execute_result"
    }
   ],
   "source": [
    "print('%s hungarian posts' % len(data_hu))\n",
    "data_hu.head()"
   ]
  },
  {
   "cell_type": "code",
   "execution_count": 145,
   "metadata": {
    "scrolled": true
   },
   "outputs": [
    {
     "name": "stdout",
     "output_type": "stream",
     "text": [
      "144 turkish posts\n"
     ]
    },
    {
     "data": {
      "text/html": [
       "<div>\n",
       "<style scoped>\n",
       "    .dataframe tbody tr th:only-of-type {\n",
       "        vertical-align: middle;\n",
       "    }\n",
       "\n",
       "    .dataframe tbody tr th {\n",
       "        vertical-align: top;\n",
       "    }\n",
       "\n",
       "    .dataframe thead th {\n",
       "        text-align: right;\n",
       "    }\n",
       "</style>\n",
       "<table border=\"1\" class=\"dataframe\">\n",
       "  <thead>\n",
       "    <tr style=\"text-align: right;\">\n",
       "      <th></th>\n",
       "      <th>link</th>\n",
       "      <th>source</th>\n",
       "      <th>text</th>\n",
       "      <th>title</th>\n",
       "    </tr>\n",
       "  </thead>\n",
       "  <tbody>\n",
       "    <tr>\n",
       "      <th>0</th>\n",
       "      <td>https://www.tripadvisor.com.tr/Hotel_Review-g2...</td>\n",
       "      <td>tripadvisortr</td>\n",
       "      <td>Cok memnun kaldim mukemmel bir konaklama ve or...</td>\n",
       "      <td>Adana Hilton SA (Adana, Türkiye) - Otel Yoruml...</td>\n",
       "    </tr>\n",
       "    <tr>\n",
       "      <th>1</th>\n",
       "      <td>https://www.tripadvisor.com.tr/Hotel_Review-g2...</td>\n",
       "      <td>tripadvisortr</td>\n",
       "      <td>İş seyahatlerimde tercih ettiğim bir oteldir e...</td>\n",
       "      <td>Adana Hilton SA (Adana, Türkiye) - Otel Yoruml...</td>\n",
       "    </tr>\n",
       "    <tr>\n",
       "      <th>2</th>\n",
       "      <td>https://www.tripadvisor.com.tr/Hotel_Review-g2...</td>\n",
       "      <td>tripadvisortr</td>\n",
       "      <td>Sayın 959mehmetu, \\n\\n\\nÖncelikle kalışınızı b...</td>\n",
       "      <td>Adana Hilton SA (Adana, Türkiye) - Otel Yoruml...</td>\n",
       "    </tr>\n",
       "    <tr>\n",
       "      <th>3</th>\n",
       "      <td>https://www.tripadvisor.com.tr/Hotel_Review-g2...</td>\n",
       "      <td>tripadvisortr</td>\n",
       "      <td>Adana’da Seyhan nehrinin kenarında Hilton kali...</td>\n",
       "      <td>Adana Hilton SA (Adana, Türkiye) - Otel Yoruml...</td>\n",
       "    </tr>\n",
       "    <tr>\n",
       "      <th>4</th>\n",
       "      <td>https://www.tripadvisor.com.tr/Hotel_Review-g2...</td>\n",
       "      <td>tripadvisortr</td>\n",
       "      <td>Hilton kalitesi belli. Ancak 17 yıllık bir hot...</td>\n",
       "      <td>Adana Hilton SA (Adana, Türkiye) - Otel Yoruml...</td>\n",
       "    </tr>\n",
       "  </tbody>\n",
       "</table>\n",
       "</div>"
      ],
      "text/plain": [
       "                                                link         source  \\\n",
       "0  https://www.tripadvisor.com.tr/Hotel_Review-g2...  tripadvisortr   \n",
       "1  https://www.tripadvisor.com.tr/Hotel_Review-g2...  tripadvisortr   \n",
       "2  https://www.tripadvisor.com.tr/Hotel_Review-g2...  tripadvisortr   \n",
       "3  https://www.tripadvisor.com.tr/Hotel_Review-g2...  tripadvisortr   \n",
       "4  https://www.tripadvisor.com.tr/Hotel_Review-g2...  tripadvisortr   \n",
       "\n",
       "                                                text  \\\n",
       "0  Cok memnun kaldim mukemmel bir konaklama ve or...   \n",
       "1  İş seyahatlerimde tercih ettiğim bir oteldir e...   \n",
       "2  Sayın 959mehmetu, \\n\\n\\nÖncelikle kalışınızı b...   \n",
       "3  Adana’da Seyhan nehrinin kenarında Hilton kali...   \n",
       "4  Hilton kalitesi belli. Ancak 17 yıllık bir hot...   \n",
       "\n",
       "                                               title  \n",
       "0  Adana Hilton SA (Adana, Türkiye) - Otel Yoruml...  \n",
       "1  Adana Hilton SA (Adana, Türkiye) - Otel Yoruml...  \n",
       "2  Adana Hilton SA (Adana, Türkiye) - Otel Yoruml...  \n",
       "3  Adana Hilton SA (Adana, Türkiye) - Otel Yoruml...  \n",
       "4  Adana Hilton SA (Adana, Türkiye) - Otel Yoruml...  "
      ]
     },
     "execution_count": 145,
     "metadata": {},
     "output_type": "execute_result"
    }
   ],
   "source": [
    "print('%s turkish posts' % len(data_tr))\n",
    "data_tr.head()"
   ]
  },
  {
   "cell_type": "code",
   "execution_count": 166,
   "metadata": {},
   "outputs": [],
   "source": [
    "wordcount = data_hu.text.apply(lambda x: pd.value_counts(x.split(\" \"))).sum(axis = 0)"
   ]
  },
  {
   "cell_type": "code",
   "execution_count": 167,
   "metadata": {},
   "outputs": [],
   "source": [
    "import hunspell"
   ]
  },
  {
   "cell_type": "code",
   "execution_count": 168,
   "metadata": {},
   "outputs": [],
   "source": [
    "hu_spellchecker = hunspell.HunSpell('/usr/share/hunspell/hu_HU.dic',\n",
    "                                 '/usr/share/hunspell/hu_HU.aff')"
   ]
  },
  {
   "cell_type": "code",
   "execution_count": 205,
   "metadata": {},
   "outputs": [],
   "source": [
    "X = data_hu[\"text\"].apply(lambda x: x.split(\" \"))\n",
    "X = X.values.tolist()\n",
    "X = list(itertools.chain.from_iterable(X))\n",
    "spellings = [[x, hu_spellchecker.spell(x)] for x in X]\n",
    "total_errors = len(filter(lambda x: x[1] == False, spellings))"
   ]
  },
  {
   "cell_type": "code",
   "execution_count": null,
   "metadata": {},
   "outputs": [],
   "source": []
  }
 ],
 "metadata": {
  "kernelspec": {
   "display_name": "Python 2",
   "language": "python",
   "name": "python2"
  },
  "language_info": {
   "codemirror_mode": {
    "name": "ipython",
    "version": 2
   },
   "file_extension": ".py",
   "mimetype": "text/x-python",
   "name": "python",
   "nbconvert_exporter": "python",
   "pygments_lexer": "ipython2",
   "version": "2.7.12"
  }
 },
 "nbformat": 4,
 "nbformat_minor": 2
}
